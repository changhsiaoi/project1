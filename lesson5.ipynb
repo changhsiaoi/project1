{
 "cells": [
  {
   "cell_type": "code",
   "execution_count": 2,
   "metadata": {},
   "outputs": [
    {
     "name": "stdout",
     "output_type": "stream",
     "text": [
      "(1, 2, 'a', 'b', 3.5, 9)\n"
     ]
    }
   ],
   "source": [
    "def print_args(*args):\n",
    "    print(args)\n",
    "\n",
    "print_args(1,2,'a','b',3.5,9)"
   ]
  },
  {
   "cell_type": "code",
   "execution_count": 4,
   "metadata": {},
   "outputs": [
    {
     "ename": "NameError",
     "evalue": "name 'Person' is not defined",
     "output_type": "error",
     "traceback": [
      "\u001b[1;31m---------------------------------------------------------------------------\u001b[0m",
      "\u001b[1;31mNameError\u001b[0m                                 Traceback (most recent call last)",
      "Cell \u001b[1;32mIn [4], line 7\u001b[0m\n\u001b[0;32m      4\u001b[0m     pring(kwargs)\n\u001b[0;32m      5\u001b[0m     \u001b[39mprint\u001b[39m(\u001b[39m\"\u001b[39m\u001b[39m============\u001b[39m\u001b[39m\"\u001b[39m)\n\u001b[1;32m----> 7\u001b[0m Person(\u001b[39m\"\u001b[39m\u001b[39mrobert\u001b[39m\u001b[39m\"\u001b[39m,\u001b[39m34\u001b[39m)\n\u001b[0;32m      8\u001b[0m person(\u001b[39m\"\u001b[39m\u001b[39mjenny\u001b[39m\u001b[39m\"\u001b[39m,\u001b[39m20\u001b[39m, a\u001b[39m=\u001b[39m\u001b[39m1\u001b[39m, b\u001b[39m=\u001b[39m\u001b[39m2\u001b[39m, c\u001b[39m=\u001b[39m\u001b[39m3\u001b[39m, d\u001b[39m=\u001b[39m\u001b[39m4\u001b[39m, e\u001b[39m=\u001b[39m\u001b[39m5\u001b[39m)\n",
      "\u001b[1;31mNameError\u001b[0m: name 'Person' is not defined"
     ]
    }
   ],
   "source": [
    "def person(name, age, **kwargs):\n",
    "    print(\"姓名:\",name)\n",
    "    print(\"age:\",age)\n",
    "    pring(kwargs)\n",
    "    print(\"============\")\n",
    "\n",
    "Person(\"robert\",34)\n",
    "person(\"jenny\",20, a=1, b=2, c=3, d=4, e=5)"
   ]
  }
 ],
 "metadata": {
  "kernelspec": {
   "display_name": "Python 3.10.7 ('venv02')",
   "language": "python",
   "name": "python3"
  },
  "language_info": {
   "codemirror_mode": {
    "name": "ipython",
    "version": 3
   },
   "file_extension": ".py",
   "mimetype": "text/x-python",
   "name": "python",
   "nbconvert_exporter": "python",
   "pygments_lexer": "ipython3",
   "version": "3.10.7"
  },
  "orig_nbformat": 4,
  "vscode": {
   "interpreter": {
    "hash": "3700e69ab96b846ef807f9c200db10a73cef39fcec0e30aa1890bcfc733e2542"
   }
  }
 },
 "nbformat": 4,
 "nbformat_minor": 2
}
